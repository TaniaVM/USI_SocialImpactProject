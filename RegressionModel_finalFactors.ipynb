{
 "cells": [
  {
   "cell_type": "code",
   "execution_count": 6,
   "metadata": {
    "collapsed": false
   },
   "outputs": [
    {
     "name": "stdout",
     "output_type": "stream",
     "text": [
      "Populating the interactive namespace from numpy and matplotlib\n"
     ]
    },
    {
     "name": "stderr",
     "output_type": "stream",
     "text": [
      "WARNING: pylab import has clobbered these variables: ['shuffle']\n",
      "`%matplotlib` prevents importing * from pylab and numpy\n"
     ]
    }
   ],
   "source": [
    "import numpy as np\n",
    "import pandas as pd\n",
    "import datetime\n",
    "import matplotlib.pyplot as plt\n",
    "import scipy\n",
    "import pylab as pl\n",
    "import scipy.stats\n",
    "from scipy import stats\n",
    "%pylab inline\n",
    "from matplotlib import pyplot as plt\n",
    "from mpl_toolkits.mplot3d import Axes3D\n",
    "from mpl_toolkits.mplot3d import proj3d\n",
    "import statsmodels.formula.api as smf\n",
    "%matplotlib inline\n",
    "from random import shuffle"
   ]
  },
  {
   "cell_type": "code",
   "execution_count": null,
   "metadata": {
    "collapsed": true
   },
   "outputs": [],
   "source": [
    "\tZIP\n",
    "X1\tChangeRent09-13\n",
    "X2\tChangeUnemployment10-13\n",
    "X3\tChangeIncome09-13\n",
    "X4\tZillowChange09-13\n",
    "X5\tChangePop09-13\n",
    "X6\tChangeCrime09-13\n",
    "Y\tChangeSmallB09-13"
   ]
  },
  {
   "cell_type": "code",
   "execution_count": 15,
   "metadata": {
    "collapsed": false
   },
   "outputs": [
    {
     "data": {
      "text/plain": [
       "(179, 7)"
      ]
     },
     "execution_count": 15,
     "metadata": {},
     "output_type": "execute_result"
    }
   ],
   "source": [
    "data = pd.read_csv('data_correlationSB.csv', index_col=0 )\n",
    "data.shape"
   ]
  },
  {
   "cell_type": "code",
   "execution_count": 16,
   "metadata": {
    "collapsed": false
   },
   "outputs": [],
   "source": [
    "data.head()\n",
    "data = data.sort()"
   ]
  },
  {
   "cell_type": "code",
   "execution_count": 17,
   "metadata": {
    "collapsed": false
   },
   "outputs": [
    {
     "data": {
      "text/html": [
       "<div>\n",
       "<table border=\"1\" class=\"dataframe\">\n",
       "  <thead>\n",
       "    <tr style=\"text-align: right;\">\n",
       "      <th></th>\n",
       "      <th>X1</th>\n",
       "      <th>X2</th>\n",
       "      <th>X3</th>\n",
       "      <th>X4</th>\n",
       "      <th>X5</th>\n",
       "      <th>X6</th>\n",
       "      <th>Y</th>\n",
       "    </tr>\n",
       "  </thead>\n",
       "  <tbody>\n",
       "    <tr>\n",
       "      <th>10001</th>\n",
       "      <td>0.12</td>\n",
       "      <td>0.10</td>\n",
       "      <td>0.30</td>\n",
       "      <td>0.04</td>\n",
       "      <td>0.10</td>\n",
       "      <td>-0.21</td>\n",
       "      <td>-0.10</td>\n",
       "    </tr>\n",
       "    <tr>\n",
       "      <th>10002</th>\n",
       "      <td>-0.25</td>\n",
       "      <td>0.26</td>\n",
       "      <td>0.20</td>\n",
       "      <td>0.04</td>\n",
       "      <td>-0.05</td>\n",
       "      <td>0.15</td>\n",
       "      <td>0.13</td>\n",
       "    </tr>\n",
       "    <tr>\n",
       "      <th>10003</th>\n",
       "      <td>0.07</td>\n",
       "      <td>0.22</td>\n",
       "      <td>-0.02</td>\n",
       "      <td>0.04</td>\n",
       "      <td>0.05</td>\n",
       "      <td>-0.08</td>\n",
       "      <td>0.00</td>\n",
       "    </tr>\n",
       "    <tr>\n",
       "      <th>10004</th>\n",
       "      <td>0.10</td>\n",
       "      <td>-0.23</td>\n",
       "      <td>-0.15</td>\n",
       "      <td>0.02</td>\n",
       "      <td>0.10</td>\n",
       "      <td>-0.24</td>\n",
       "      <td>-0.03</td>\n",
       "    </tr>\n",
       "    <tr>\n",
       "      <th>10005</th>\n",
       "      <td>0.12</td>\n",
       "      <td>0.76</td>\n",
       "      <td>-0.27</td>\n",
       "      <td>0.01</td>\n",
       "      <td>2.06</td>\n",
       "      <td>-0.73</td>\n",
       "      <td>-0.67</td>\n",
       "    </tr>\n",
       "  </tbody>\n",
       "</table>\n",
       "</div>"
      ],
      "text/plain": [
       "         X1    X2    X3    X4    X5    X6     Y\n",
       "10001  0.12  0.10  0.30  0.04  0.10 -0.21 -0.10\n",
       "10002 -0.25  0.26  0.20  0.04 -0.05  0.15  0.13\n",
       "10003  0.07  0.22 -0.02  0.04  0.05 -0.08  0.00\n",
       "10004  0.10 -0.23 -0.15  0.02  0.10 -0.24 -0.03\n",
       "10005  0.12  0.76 -0.27  0.01  2.06 -0.73 -0.67"
      ]
     },
     "execution_count": 17,
     "metadata": {},
     "output_type": "execute_result"
    }
   ],
   "source": [
    "data.head()"
   ]
  },
  {
   "cell_type": "code",
   "execution_count": 18,
   "metadata": {
    "collapsed": false
   },
   "outputs": [
    {
     "data": {
      "text/html": [
       "<div>\n",
       "<table border=\"1\" class=\"dataframe\">\n",
       "  <thead>\n",
       "    <tr style=\"text-align: right;\">\n",
       "      <th></th>\n",
       "      <th>X1</th>\n",
       "      <th>X2</th>\n",
       "      <th>X3</th>\n",
       "      <th>X4</th>\n",
       "      <th>X5</th>\n",
       "      <th>X6</th>\n",
       "      <th>Y</th>\n",
       "    </tr>\n",
       "  </thead>\n",
       "  <tbody>\n",
       "    <tr>\n",
       "      <th>10002</th>\n",
       "      <td>-0.25</td>\n",
       "      <td>0.26</td>\n",
       "      <td>0.20</td>\n",
       "      <td>0.04</td>\n",
       "      <td>-0.05</td>\n",
       "      <td>0.15</td>\n",
       "      <td>0.13</td>\n",
       "    </tr>\n",
       "    <tr>\n",
       "      <th>10004</th>\n",
       "      <td>0.10</td>\n",
       "      <td>-0.23</td>\n",
       "      <td>-0.15</td>\n",
       "      <td>0.02</td>\n",
       "      <td>0.10</td>\n",
       "      <td>-0.24</td>\n",
       "      <td>-0.03</td>\n",
       "    </tr>\n",
       "    <tr>\n",
       "      <th>10006</th>\n",
       "      <td>0.10</td>\n",
       "      <td>0.44</td>\n",
       "      <td>-0.16</td>\n",
       "      <td>0.04</td>\n",
       "      <td>0.52</td>\n",
       "      <td>-0.39</td>\n",
       "      <td>-0.33</td>\n",
       "    </tr>\n",
       "    <tr>\n",
       "      <th>10009</th>\n",
       "      <td>0.02</td>\n",
       "      <td>0.07</td>\n",
       "      <td>0.41</td>\n",
       "      <td>0.04</td>\n",
       "      <td>0.03</td>\n",
       "      <td>-0.09</td>\n",
       "      <td>0.13</td>\n",
       "    </tr>\n",
       "    <tr>\n",
       "      <th>10011</th>\n",
       "      <td>0.07</td>\n",
       "      <td>0.34</td>\n",
       "      <td>0.10</td>\n",
       "      <td>0.04</td>\n",
       "      <td>0.03</td>\n",
       "      <td>-0.05</td>\n",
       "      <td>-0.01</td>\n",
       "    </tr>\n",
       "  </tbody>\n",
       "</table>\n",
       "</div>"
      ],
      "text/plain": [
       "         X1    X2    X3    X4    X5    X6     Y\n",
       "10002 -0.25  0.26  0.20  0.04 -0.05  0.15  0.13\n",
       "10004  0.10 -0.23 -0.15  0.02  0.10 -0.24 -0.03\n",
       "10006  0.10  0.44 -0.16  0.04  0.52 -0.39 -0.33\n",
       "10009  0.02  0.07  0.41  0.04  0.03 -0.09  0.13\n",
       "10011  0.07  0.34  0.10  0.04  0.03 -0.05 -0.01"
      ]
     },
     "execution_count": 18,
     "metadata": {},
     "output_type": "execute_result"
    }
   ],
   "source": [
    "#n = n-1\n",
    "#train1 = data[:][0:((N/2)-1)]\n",
    "#valid1 = data[:][(N/2):(N-1)]\n",
    "train1 = data[:][::2]\n",
    "valid1 = data[:][1::2]\n",
    "valid1.head()"
   ]
  },
  {
   "cell_type": "code",
   "execution_count": 19,
   "metadata": {
    "collapsed": false,
    "scrolled": true
   },
   "outputs": [
    {
     "data": {
      "text/html": [
       "<div>\n",
       "<table border=\"1\" class=\"dataframe\">\n",
       "  <thead>\n",
       "    <tr style=\"text-align: right;\">\n",
       "      <th></th>\n",
       "      <th>X1</th>\n",
       "      <th>X2</th>\n",
       "      <th>X3</th>\n",
       "      <th>X4</th>\n",
       "      <th>X5</th>\n",
       "      <th>X6</th>\n",
       "      <th>Y</th>\n",
       "    </tr>\n",
       "  </thead>\n",
       "  <tbody>\n",
       "    <tr>\n",
       "      <th>10001</th>\n",
       "      <td>0.12</td>\n",
       "      <td>0.10</td>\n",
       "      <td>0.30</td>\n",
       "      <td>0.04</td>\n",
       "      <td>0.10</td>\n",
       "      <td>-0.21</td>\n",
       "      <td>-0.10</td>\n",
       "    </tr>\n",
       "    <tr>\n",
       "      <th>10003</th>\n",
       "      <td>0.07</td>\n",
       "      <td>0.22</td>\n",
       "      <td>-0.02</td>\n",
       "      <td>0.04</td>\n",
       "      <td>0.05</td>\n",
       "      <td>-0.08</td>\n",
       "      <td>0.00</td>\n",
       "    </tr>\n",
       "    <tr>\n",
       "      <th>10005</th>\n",
       "      <td>0.12</td>\n",
       "      <td>0.76</td>\n",
       "      <td>-0.27</td>\n",
       "      <td>0.01</td>\n",
       "      <td>2.06</td>\n",
       "      <td>-0.73</td>\n",
       "      <td>-0.67</td>\n",
       "    </tr>\n",
       "    <tr>\n",
       "      <th>10007</th>\n",
       "      <td>0.10</td>\n",
       "      <td>0.21</td>\n",
       "      <td>-0.01</td>\n",
       "      <td>0.28</td>\n",
       "      <td>0.51</td>\n",
       "      <td>-0.46</td>\n",
       "      <td>-0.26</td>\n",
       "    </tr>\n",
       "    <tr>\n",
       "      <th>10010</th>\n",
       "      <td>0.16</td>\n",
       "      <td>0.23</td>\n",
       "      <td>-0.08</td>\n",
       "      <td>0.04</td>\n",
       "      <td>0.15</td>\n",
       "      <td>-0.25</td>\n",
       "      <td>-0.09</td>\n",
       "    </tr>\n",
       "  </tbody>\n",
       "</table>\n",
       "</div>"
      ],
      "text/plain": [
       "         X1    X2    X3    X4    X5    X6     Y\n",
       "10001  0.12  0.10  0.30  0.04  0.10 -0.21 -0.10\n",
       "10003  0.07  0.22 -0.02  0.04  0.05 -0.08  0.00\n",
       "10005  0.12  0.76 -0.27  0.01  2.06 -0.73 -0.67\n",
       "10007  0.10  0.21 -0.01  0.28  0.51 -0.46 -0.26\n",
       "10010  0.16  0.23 -0.08  0.04  0.15 -0.25 -0.09"
      ]
     },
     "execution_count": 19,
     "metadata": {},
     "output_type": "execute_result"
    }
   ],
   "source": [
    "train1.head()"
   ]
  },
  {
   "cell_type": "code",
   "execution_count": 20,
   "metadata": {
    "collapsed": false
   },
   "outputs": [],
   "source": [
    "#Using Funcion \"regress\"\n",
    "def regress(mask):\n",
    "    formstr='Y~-1'\n",
    "    for i in range(0,len(mask)):\n",
    "        if mask[i] == 1:\n",
    "            formstr = formstr + '+X' + str(i + 1)\n",
    "    lm = smf.ols(formula=formstr, data = train1).fit()\n",
    "    lmy2 = lm.predict(valid1)\n",
    "    R2=1 - sum(pow(lmy2 - valid1.Y, 2)) / sum(pow(valid1.Y - mean(valid1.Y), 2))\n",
    "    p1 = sum(mask)\n",
    "    n1 = len(valid1)\n",
    "    firstpart = (1-R2)\n",
    "    secondpart = (n1-p1-1.0)\n",
    "    #print p1/ secondpart\n",
    "    takeout = firstpart * (p1 / secondpart)\n",
    "    AR2 = R2 - firstpart * takeout\n",
    "    #print \"R2 = %s, Adjusted R2 = %s, n = %s, p = %s, tout = %s, fp = %s, sp = %s\" % (R2, AR2, n1, p1,takeout,firstpart,secondpart)\n",
    "    return (R2,formstr)\n",
    "\n"
   ]
  },
  {
   "cell_type": "code",
   "execution_count": 21,
   "metadata": {
    "collapsed": false
   },
   "outputs": [
    {
     "name": "stdout",
     "output_type": "stream",
     "text": [
      "The initial regression is 0.408746213843\n",
      "Taking out X6, the regression is better 0.48522356787\n",
      "0.48522356787\n"
     ]
    },
    {
     "data": {
      "text/html": [
       "<table class=\"simpletable\">\n",
       "<caption>OLS Regression Results</caption>\n",
       "<tr>\n",
       "  <th>Dep. Variable:</th>            <td>Y</td>        <th>  R-squared:         </th> <td>   0.794</td>\n",
       "</tr>\n",
       "<tr>\n",
       "  <th>Model:</th>                   <td>OLS</td>       <th>  Adj. R-squared:    </th> <td>   0.782</td>\n",
       "</tr>\n",
       "<tr>\n",
       "  <th>Method:</th>             <td>Least Squares</td>  <th>  F-statistic:       </th> <td>   64.85</td>\n",
       "</tr>\n",
       "<tr>\n",
       "  <th>Date:</th>             <td>Mon, 14 Mar 2016</td> <th>  Prob (F-statistic):</th> <td>2.21e-27</td>\n",
       "</tr>\n",
       "<tr>\n",
       "  <th>Time:</th>                 <td>05:59:11</td>     <th>  Log-Likelihood:    </th> <td>  103.17</td>\n",
       "</tr>\n",
       "<tr>\n",
       "  <th>No. Observations:</th>      <td>    89</td>      <th>  AIC:               </th> <td>  -196.3</td>\n",
       "</tr>\n",
       "<tr>\n",
       "  <th>Df Residuals:</th>          <td>    84</td>      <th>  BIC:               </th> <td>  -183.9</td>\n",
       "</tr>\n",
       "<tr>\n",
       "  <th>Df Model:</th>              <td>     5</td>      <th>                     </th>     <td> </td>   \n",
       "</tr>\n",
       "<tr>\n",
       "  <th>Covariance Type:</th>      <td>nonrobust</td>    <th>                     </th>     <td> </td>   \n",
       "</tr>\n",
       "</table>\n",
       "<table class=\"simpletable\">\n",
       "<tr>\n",
       "   <td></td>     <th>coef</th>     <th>std err</th>      <th>t</th>      <th>P>|t|</th> <th>[95.0% Conf. Int.]</th> \n",
       "</tr>\n",
       "<tr>\n",
       "  <th>X1</th> <td>   -0.2325</td> <td>    0.082</td> <td>   -2.839</td> <td> 0.006</td> <td>   -0.395    -0.070</td>\n",
       "</tr>\n",
       "<tr>\n",
       "  <th>X2</th> <td>    0.0333</td> <td>    0.024</td> <td>    1.378</td> <td> 0.172</td> <td>   -0.015     0.081</td>\n",
       "</tr>\n",
       "<tr>\n",
       "  <th>X3</th> <td>    0.3244</td> <td>    0.038</td> <td>    8.447</td> <td> 0.000</td> <td>    0.248     0.401</td>\n",
       "</tr>\n",
       "<tr>\n",
       "  <th>X4</th> <td>    0.1844</td> <td>    0.081</td> <td>    2.275</td> <td> 0.025</td> <td>    0.023     0.346</td>\n",
       "</tr>\n",
       "<tr>\n",
       "  <th>X5</th> <td>   -0.7279</td> <td>    0.074</td> <td>   -9.888</td> <td> 0.000</td> <td>   -0.874    -0.581</td>\n",
       "</tr>\n",
       "</table>\n",
       "<table class=\"simpletable\">\n",
       "<tr>\n",
       "  <th>Omnibus:</th>       <td> 6.841</td> <th>  Durbin-Watson:     </th> <td>   1.937</td>\n",
       "</tr>\n",
       "<tr>\n",
       "  <th>Prob(Omnibus):</th> <td> 0.033</td> <th>  Jarque-Bera (JB):  </th> <td>   8.012</td>\n",
       "</tr>\n",
       "<tr>\n",
       "  <th>Skew:</th>          <td>-0.381</td> <th>  Prob(JB):          </th> <td>  0.0182</td>\n",
       "</tr>\n",
       "<tr>\n",
       "  <th>Kurtosis:</th>      <td> 4.257</td> <th>  Cond. No.          </th> <td>    5.16</td>\n",
       "</tr>\n",
       "</table>"
      ],
      "text/plain": [
       "<class 'statsmodels.iolib.summary.Summary'>\n",
       "\"\"\"\n",
       "                            OLS Regression Results                            \n",
       "==============================================================================\n",
       "Dep. Variable:                      Y   R-squared:                       0.794\n",
       "Model:                            OLS   Adj. R-squared:                  0.782\n",
       "Method:                 Least Squares   F-statistic:                     64.85\n",
       "Date:                Mon, 14 Mar 2016   Prob (F-statistic):           2.21e-27\n",
       "Time:                        05:59:11   Log-Likelihood:                 103.17\n",
       "No. Observations:                  89   AIC:                            -196.3\n",
       "Df Residuals:                      84   BIC:                            -183.9\n",
       "Df Model:                           5                                         \n",
       "Covariance Type:            nonrobust                                         \n",
       "==============================================================================\n",
       "                 coef    std err          t      P>|t|      [95.0% Conf. Int.]\n",
       "------------------------------------------------------------------------------\n",
       "X1            -0.2325      0.082     -2.839      0.006        -0.395    -0.070\n",
       "X2             0.0333      0.024      1.378      0.172        -0.015     0.081\n",
       "X3             0.3244      0.038      8.447      0.000         0.248     0.401\n",
       "X4             0.1844      0.081      2.275      0.025         0.023     0.346\n",
       "X5            -0.7279      0.074     -9.888      0.000        -0.874    -0.581\n",
       "==============================================================================\n",
       "Omnibus:                        6.841   Durbin-Watson:                   1.937\n",
       "Prob(Omnibus):                  0.033   Jarque-Bera (JB):                8.012\n",
       "Skew:                          -0.381   Prob(JB):                       0.0182\n",
       "Kurtosis:                       4.257   Cond. No.                         5.16\n",
       "==============================================================================\n",
       "\n",
       "Warnings:\n",
       "[1] Standard Errors assume that the covariance matrix of the errors is correctly specified.\n",
       "\"\"\""
      ]
     },
     "execution_count": 21,
     "metadata": {},
     "output_type": "execute_result"
    }
   ],
   "source": [
    "\n",
    "#instead of forward make it backward\n",
    "n = 6\n",
    "mask0 = [1] * n #initially all of the regressors are included (creates a one array)\n",
    "r20 = regress(mask0)[0] #initially regression with all\n",
    "print \"The initial regression is %s\" % (r20)\n",
    "while True:\n",
    "    bestI = -1 #best regressor to exclude\n",
    "    for i in range(0,n):\n",
    "        if (mask0[i] == 1):\n",
    "            mask = mask0[:]\n",
    "            mask[i] = 0\n",
    "            r2 = regress(mask)[0]\n",
    "            if (r2 > r20):\n",
    "                r20 = r2\n",
    "                bestI = i\n",
    "    if (bestI >= 0):\n",
    "        mask0[bestI] = 0\n",
    "        print 'Taking out X%s, the regression is better %s' % (bestI+1,r20)\n",
    "        if sum(mask0) == 1:\n",
    "            break\n",
    "    else:\n",
    "        break\n",
    "(r2,str1)= regress(mask0)\n",
    "lm = smf.ols(formula = str1, data = valid1).fit()\n",
    "lmy = lm.predict()\n",
    "print r2\n",
    "lm.summary()"
   ]
  },
  {
   "cell_type": "code",
   "execution_count": 22,
   "metadata": {
    "collapsed": false
   },
   "outputs": [
    {
     "data": {
      "text/plain": [
       "179"
      ]
     },
     "execution_count": 22,
     "metadata": {},
     "output_type": "execute_result"
    }
   ],
   "source": [
    "len(data.Y)"
   ]
  },
  {
   "cell_type": "code",
   "execution_count": 23,
   "metadata": {
    "collapsed": false
   },
   "outputs": [
    {
     "data": {
      "image/png": "[encoded data removed]",
      "text/plain": [
       "<matplotlib.figure.Figure at 0x1093c21d0>"
      ]
     },
     "metadata": {},
     "output_type": "display_data"
    }
   ],
   "source": [
    "#X = data['X5']\n",
    "#Y = data['Y']\n",
    "plt.plot(lmy,valid1.Y,'or')\n",
    "plt.plot(lmy,lmy,'-b')\n",
    "plt.xscale('log')\n",
    "plt.yscale('log')\n",
    "#lm = smf.ols(formula = str1, data = valid1).fit()"
   ]
  },
  {
   "cell_type": "code",
   "execution_count": null,
   "metadata": {
    "collapsed": true
   },
   "outputs": [],
   "source": []
  }
 ],
 "metadata": {
  "kernelspec": {
   "display_name": "Python 2",
   "language": "python",
   "name": "python2"
  },
  "language_info": {
   "codemirror_mode": {
    "name": "ipython",
    "version": 2
   },
   "file_extension": ".py",
   "mimetype": "text/x-python",
   "name": "python",
   "nbconvert_exporter": "python",
   "pygments_lexer": "ipython2",
   "version": "2.7.10"
  }
 },
 "nbformat": 4,
 "nbformat_minor": 0
}
