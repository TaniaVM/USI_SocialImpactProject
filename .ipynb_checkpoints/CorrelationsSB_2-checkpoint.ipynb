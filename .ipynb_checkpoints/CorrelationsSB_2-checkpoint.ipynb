{
 "cells": [
  {
   "cell_type": "code",
   "execution_count": 13,
   "metadata": {
    "collapsed": true
   },
   "outputs": [],
   "source": [
    "import pandas as pd\n",
    "import matplotlib.pyplot as plt\n",
    "import scipy.stats\n",
    "%matplotlib inline"
   ]
  },
  {
   "cell_type": "code",
   "execution_count": null,
   "metadata": {
    "collapsed": true
   },
   "outputs": [],
   "source": [
    "\tZIP\n",
    "X1\tChangeRent09-13\n",
    "X2\tChangeUnemployment10-13\n",
    "X3\tChangeIncome09-13\n",
    "X4\tZillowChange09-13\n",
    "X5\tChangePop09-13\n",
    "X6\tChangeCrime09-13\n",
    "Y\tChangeSmallB09-13"
   ]
  },
  {
   "cell_type": "code",
   "execution_count": 9,
   "metadata": {
    "collapsed": false
   },
   "outputs": [
    {
     "data": {
      "text/html": [
       "<div>\n",
       "<table border=\"1\" class=\"dataframe\">\n",
       "  <thead>\n",
       "    <tr style=\"text-align: right;\">\n",
       "      <th></th>\n",
       "      <th>ZIP</th>\n",
       "      <th>X1</th>\n",
       "      <th>X2</th>\n",
       "      <th>X3</th>\n",
       "      <th>X4</th>\n",
       "      <th>X5</th>\n",
       "      <th>X6</th>\n",
       "      <th>Y</th>\n",
       "    </tr>\n",
       "  </thead>\n",
       "  <tbody>\n",
       "    <tr>\n",
       "      <th>0</th>\n",
       "      <td>10162</td>\n",
       "      <td>0.10</td>\n",
       "      <td>0.50</td>\n",
       "      <td>-0.32</td>\n",
       "      <td>0.04</td>\n",
       "      <td>1.16</td>\n",
       "      <td>-0.54</td>\n",
       "      <td>-0.56</td>\n",
       "    </tr>\n",
       "    <tr>\n",
       "      <th>1</th>\n",
       "      <td>11697</td>\n",
       "      <td>0.36</td>\n",
       "      <td>0.00</td>\n",
       "      <td>0.21</td>\n",
       "      <td>0.04</td>\n",
       "      <td>0.07</td>\n",
       "      <td>8.81</td>\n",
       "      <td>-0.27</td>\n",
       "    </tr>\n",
       "    <tr>\n",
       "      <th>2</th>\n",
       "      <td>11005</td>\n",
       "      <td>-0.18</td>\n",
       "      <td>0.12</td>\n",
       "      <td>0.14</td>\n",
       "      <td>0.04</td>\n",
       "      <td>-0.34</td>\n",
       "      <td>1.20</td>\n",
       "      <td>0.56</td>\n",
       "    </tr>\n",
       "    <tr>\n",
       "      <th>3</th>\n",
       "      <td>10044</td>\n",
       "      <td>-0.02</td>\n",
       "      <td>1.19</td>\n",
       "      <td>0.02</td>\n",
       "      <td>0.04</td>\n",
       "      <td>-0.10</td>\n",
       "      <td>0.75</td>\n",
       "      <td>0.19</td>\n",
       "    </tr>\n",
       "    <tr>\n",
       "      <th>4</th>\n",
       "      <td>11239</td>\n",
       "      <td>-0.20</td>\n",
       "      <td>0.35</td>\n",
       "      <td>0.11</td>\n",
       "      <td>0.04</td>\n",
       "      <td>-0.15</td>\n",
       "      <td>0.49</td>\n",
       "      <td>0.18</td>\n",
       "    </tr>\n",
       "  </tbody>\n",
       "</table>\n",
       "</div>"
      ],
      "text/plain": [
       "     ZIP    X1    X2    X3    X4    X5    X6     Y\n",
       "0  10162  0.10  0.50 -0.32  0.04  1.16 -0.54 -0.56\n",
       "1  11697  0.36  0.00  0.21  0.04  0.07  8.81 -0.27\n",
       "2  11005 -0.18  0.12  0.14  0.04 -0.34  1.20  0.56\n",
       "3  10044 -0.02  1.19  0.02  0.04 -0.10  0.75  0.19\n",
       "4  11239 -0.20  0.35  0.11  0.04 -0.15  0.49  0.18"
      ]
     },
     "execution_count": 9,
     "metadata": {},
     "output_type": "execute_result"
    }
   ],
   "source": [
    "df = pd.read_csv('data_correlationSB.csv')\n",
    "df.head()"
   ]
  },
  {
   "cell_type": "code",
   "execution_count": 10,
   "metadata": {
    "collapsed": false
   },
   "outputs": [
    {
     "data": {
      "text/plain": [
       "(-0.22451318237381349, 0.0025160396798787291)"
      ]
     },
     "execution_count": 10,
     "metadata": {},
     "output_type": "execute_result"
    }
   ],
   "source": [
    "pr = scipy.stats.pearsonr(df['Y'], df['X1'])\n",
    "pr"
   ]
  },
  {
   "cell_type": "code",
   "execution_count": 11,
   "metadata": {
    "collapsed": false
   },
   "outputs": [],
   "source": [
    "# Create new dataframe for each type of housing complaint and then do the correlation test\n",
    "\n",
    "pr = scipy.stats.pearsonr(df['Y'], df['X1'])\n",
    "pr1 = scipy.stats.pearsonr(df['Y'], df['X2'])\n",
    "pr2 = scipy.stats.pearsonr(df['Y'], df['X3'])\n",
    "pr3 = scipy.stats.pearsonr(df['Y'], df['X4'])\n",
    "pr4 = scipy.stats.pearsonr(df['Y'], df['X5'])\n",
    "pr5 = scipy.stats.pearsonr(df['Y'], df['X6'])\n"
   ]
  },
  {
   "cell_type": "code",
   "execution_count": 21,
   "metadata": {
    "collapsed": false
   },
   "outputs": [
    {
     "data": {
      "text/plain": [
       "{'ChangeCrime09-13': (0.071354428240507847, 0.34252927892622853),\n",
       " 'ChangeIncome09-13': (0.5383838077853127, 7.6663725441917058e-15),\n",
       " 'ChangePop09-13': (-0.72109094582771194, 5.1193786575489982e-30),\n",
       " 'ChangeRent09-13': (-0.22451318237381349, 0.0025160396798787291),\n",
       " 'ChangeUnemployment10-13': (-0.15055894130499542, 0.044250373189209803),\n",
       " 'ZillowChange09-13': (0.14481568282932256, 0.053096402374666701)}"
      ]
     },
     "execution_count": 21,
     "metadata": {},
     "output_type": "execute_result"
    }
   ],
   "source": [
    "correlations = {\"ChangeRent09-13\":pr,\"ChangeUnemployment10-13\":pr1,\"ChangeIncome09-13\":pr2,\"ZillowChange09-13\":pr3,\"ChangePop09-13\":pr4,\"ChangeCrime09-13\":pr5}\n",
    "\n",
    "correlations"
   ]
  },
  {
   "cell_type": "code",
   "execution_count": null,
   "metadata": {
    "collapsed": true
   },
   "outputs": [],
   "source": []
  }
 ],
 "metadata": {
  "kernelspec": {
   "display_name": "Python 2",
   "language": "python",
   "name": "python2"
  },
  "language_info": {
   "codemirror_mode": {
    "name": "ipython",
    "version": 2
   },
   "file_extension": ".py",
   "mimetype": "text/x-python",
   "name": "python",
   "nbconvert_exporter": "python",
   "pygments_lexer": "ipython2",
   "version": "2.7.10"
  }
 },
 "nbformat": 4,
 "nbformat_minor": 0
}
